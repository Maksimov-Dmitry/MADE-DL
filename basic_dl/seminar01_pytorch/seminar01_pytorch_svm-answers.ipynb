{
 "cells": [
  {
   "cell_type": "markdown",
   "id": "7c7e9e4b",
   "metadata": {},
   "source": [
    "# Обучение SVM на PyTorch\n",
    "\n",
    "SVM - это линейная модель со следующей функцией потерь:\n",
    "\n",
    "$L(x, y) = \\max(0, 1 - y (x^Tw + b)) + \\frac{1}{2}\\lambda \\|w\\|^2$\n",
    "\n",
    "где $y$ это метка класса (-1 или 1), $x$ - вектор признаков, $w$ и $b$ - обучаемые параметры модели, а $\\lambda$ - гиперпараметр регуляризации.\n",
    "\n",
    "Предлагается использовать механизм автоматического дифференцирования PyTorch для оптимизации SVM методом градиентного спуска."
   ]
  },
  {
   "cell_type": "code",
   "execution_count": 7,
   "id": "0551555c",
   "metadata": {},
   "outputs": [
    {
     "name": "stdout",
     "output_type": "stream",
     "text": [
      "Features: torch.Size([569, 30])\n",
      "Labels: torch.Size([569])\n",
      "Num classes: 2\n",
      "Num elements: 569\n",
      "Num features: 30\n",
      "Sample features: tensor([ 1.0961, -2.0715,  1.2688,  0.9835,  1.5671])\n",
      "Sample targets: tensor([ 1,  1,  1, -1, -1, -1, -1, -1, -1,  1])\n"
     ]
    }
   ],
   "source": [
    "import torch\n",
    "import sklearn.datasets\n",
    "\n",
    "# Загрузим датасет бинарной классификации.\n",
    "X, y = sklearn.datasets.load_breast_cancer(return_X_y=True)\n",
    "X = torch.tensor(X).float()\n",
    "y = torch.tensor(y)\n",
    "X = (X - X.mean(0, keepdim=True)) / X.std(0, keepdim=True)  # Нормализовать признаки.\n",
    "print(\"Features:\", X.shape)\n",
    "print(\"Labels:\", y.shape)\n",
    "print(\"Num classes:\", y.max().item() + 1)\n",
    "\n",
    "N, D = X.shape\n",
    "print(\"Num elements:\", N)\n",
    "print(\"Num features:\", D)\n",
    "\n",
    "y = y * 2 - 1  # Конвертировать метки из 0, 1 в -1, 1.\n",
    "print(\"Sample features:\", X.flatten()[:5])\n",
    "print(\"Sample targets:\", y[-10:])"
   ]
  },
  {
   "cell_type": "markdown",
   "id": "c09094d6",
   "metadata": {},
   "source": [
    "**Задание 1.** Реализуйте SVM loss на PyTorch для батча данных. Предлагается усреднить значения лосса для всех элементов батча.\n",
    "\n",
    "Обратите внимание на функции torch.clip, torch.square и torch.linalg.norm."
   ]
  },
  {
   "cell_type": "code",
   "execution_count": 11,
   "id": "07c0c452",
   "metadata": {},
   "outputs": [],
   "source": [
    "def svm_loss(X, y, w, b, l=0.001):\n",
    "    \"\"\"SVM Loss.\n",
    "    \n",
    "    Args:\n",
    "        X: Входные признаки с размерностью (Batch, Dim).\n",
    "        y: Входные метки с размерностью (Batch).\n",
    "        w: Вектор весов с размерностью (Dim).\n",
    "        b: Смещение (скаляр).\n",
    "        l: Параметр регуляризации.\n",
    "        \n",
    "    Returns:\n",
    "        Функция возвращает скаляр со значением лосса.\n",
    "    \"\"\"\n",
    "    # Ваше решение здесь.\n",
    "    reg = 0.5 * l * w.square().sum()  # Scalar.\n",
    "    logits = X @ w + b  # (Batch).\n",
    "    delta = (1 - y * logits).clip(min=0)  # (Batch).\n",
    "    return (delta + reg).mean()  # Scalar.\n",
    "\n",
    "\n",
    "# Проверки.\n",
    "loss = svm_loss(X, y,\n",
    "                w=torch.ones(D, requires_grad=True),\n",
    "                b=torch.full([], 0.5, requires_grad=True))\n",
    "assert abs(loss.item() - 15.126455307006836) < 1e-5, loss.item()\n",
    "assert loss.requires_grad\n",
    "del loss"
   ]
  },
  {
   "cell_type": "markdown",
   "id": "cb2dab37",
   "metadata": {},
   "source": [
    "**Задание 2** Создайте оптимизатор с шагом обучения 0.1.\n",
    "\n",
    "Обратите внимание на функцию torch.optim.SGD."
   ]
  },
  {
   "cell_type": "code",
   "execution_count": 12,
   "id": "b3e2642c",
   "metadata": {},
   "outputs": [],
   "source": [
    "def make_optimizer(w, b):\n",
    "    \"\"\"Возвращает оптимизатор для параметров w и b.\"\"\"\n",
    "    # Ваше решение здесь.\n",
    "    return torch.optim.SGD([w, b], lr=0.1)\n",
    "\n",
    "\n",
    "# Проверки.\n",
    "optimizer = make_optimizer(w=torch.ones(D, requires_grad=True),\n",
    "                           b=torch.full([], 0.5, requires_grad=True))\n",
    "assert abs(optimizer.param_groups[0][\"lr\"] - 0.1) < 1e-5\n",
    "assert len(optimizer.param_groups) == 1\n",
    "assert sum(p.numel() for p in optimizer.param_groups[0][\"params\"]) == 31\n",
    "del optimizer"
   ]
  },
  {
   "cell_type": "markdown",
   "id": "872b2215",
   "metadata": {},
   "source": [
    "**Задание 3**. Реализуйте шаг обучения модели.\n",
    "\n",
    "Не забудьте обнулить градиенты перед backward.\n",
    "\n",
    "Обратите внимание на функции optimizer.zero_grad и optimizer.step. Чтобы запустить автоматическое дифференцирование нужно выполнить метод backward для значения лосс-функции."
   ]
  },
  {
   "cell_type": "code",
   "execution_count": 17,
   "id": "28885901",
   "metadata": {},
   "outputs": [],
   "source": [
    "def train_step(optimizer, X, y, w, b, l=0.001):\n",
    "    \"\"\"Сделать шаг оптимизации.\"\"\"\n",
    "    # Ваш код здесь.\n",
    "    optimizer.zero_grad()\n",
    "    loss = svm_loss(X, y, w, b, l)\n",
    "    loss.backward()\n",
    "    optimizer.step()\n",
    "    \n",
    "# Проверки.\n",
    "w = torch.ones(D, requires_grad=True)\n",
    "b = torch.full([], 0.5, requires_grad=True)\n",
    "w.grad = torch.full_like(w, -1)\n",
    "optimizer = make_optimizer(w, b)\n",
    "train_step(optimizer, X, y, w, b)\n",
    "assert abs(w.grad[0].item() - 0.6581) < 1e-4, w.grad[0]\n",
    "assert abs(b.grad.item() + 0.2320) < 1e-4, b.grad\n",
    "assert abs(w[0].item() - 0.9342) < 1e-4, w[0]\n",
    "assert abs(b.item() - 0.5232) < 1e-4, b\n",
    "del w, b, optimizer"
   ]
  },
  {
   "cell_type": "markdown",
   "id": "20c4b5ad",
   "metadata": {},
   "source": [
    "**Задание 4.** Реализуйте цикл обучения: сделайте 100 шагов из начальной точки."
   ]
  },
  {
   "cell_type": "code",
   "execution_count": 19,
   "id": "649ca39d",
   "metadata": {},
   "outputs": [
    {
     "name": "stdout",
     "output_type": "stream",
     "text": [
      "Initial accuracy: 0.12302284687757492\n",
      "Final accuracy: 0.9156414866447449\n"
     ]
    }
   ],
   "source": [
    "def get_accuracy(X, y, w, b):\n",
    "    logits = (X * w).sum(-1) + b\n",
    "    predictions = (logits > 0).long() * 2 - 1\n",
    "    return (y == predictions).float().mean().item()\n",
    "\n",
    "\n",
    "def training_loop(X, y, w, b):\n",
    "    # Ваш код здесь.\n",
    "    optimizer = make_optimizer(w, b)\n",
    "    for _ in range(1000):\n",
    "        train_step(optimizer, X, y, w, b)\n",
    "\n",
    "\n",
    "w = torch.arange(D).float()\n",
    "w.requires_grad = True\n",
    "b = torch.tensor([0.0], requires_grad=True)\n",
    "\n",
    "print(\"Initial accuracy:\", get_accuracy(X, y, w, b))\n",
    "training_loop(X, y, w, b)\n",
    "print(\"Final accuracy:\", get_accuracy(X, y, w, b))\n",
    "\n",
    "# Проверки.\n",
    "assert get_accuracy(X, y, w, b) > 0.9"
   ]
  },
  {
   "cell_type": "code",
   "execution_count": null,
   "id": "892ad915",
   "metadata": {},
   "outputs": [],
   "source": []
  }
 ],
 "metadata": {
  "kernelspec": {
   "display_name": "Python 3",
   "language": "python",
   "name": "python3"
  },
  "language_info": {
   "codemirror_mode": {
    "name": "ipython",
    "version": 3
   },
   "file_extension": ".py",
   "mimetype": "text/x-python",
   "name": "python",
   "nbconvert_exporter": "python",
   "pygments_lexer": "ipython3",
   "version": "3.8.9"
  }
 },
 "nbformat": 4,
 "nbformat_minor": 5
}
