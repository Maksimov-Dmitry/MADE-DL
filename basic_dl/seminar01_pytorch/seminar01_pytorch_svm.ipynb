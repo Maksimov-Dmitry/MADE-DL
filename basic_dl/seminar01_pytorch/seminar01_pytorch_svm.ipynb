{
 "cells": [
  {
   "cell_type": "markdown",
   "id": "f5efe468",
   "metadata": {},
   "source": [
    "# Обучение SVM на PyTorch\n",
    "\n",
    "SVM - это линейная модель со следующей функцией потерь:\n",
    "\n",
    "$L(x, y) = \\max(0, 1 - y (x^Tw + b)) + \\frac{1}{2}\\lambda \\|w\\|^2$\n",
    "\n",
    "где $y$ это метка класса (-1 или 1), $x$ - вектор признаков, $w$ и $b$ - обучаемые параметры модели, а $\\lambda$ - гиперпараметр регуляризации.\n",
    "\n",
    "Предлагается использовать механизм автоматического дифференцирования PyTorch для оптимизации SVM методом градиентного спуска."
   ]
  },
  {
   "cell_type": "code",
   "execution_count": null,
   "id": "496433ba",
   "metadata": {},
   "outputs": [],
   "source": [
    "import torch\n",
    "import sklearn.datasets\n",
    "\n",
    "# Загрузим датасет бинарной классификации.\n",
    "X, y = sklearn.datasets.load_breast_cancer(return_X_y=True)\n",
    "X = torch.tensor(X)\n",
    "y = torch.tensor(y)\n",
    "X = (X - X.mean(1, keepdim=True)) / X.std(1, keepdim=True)  # Нормализовать признаки.\n",
    "print(\"Features:\", X.shape)\n",
    "print(\"Labels:\", y.shape)\n",
    "print(\"Num classes:\", y.max().item() + 1)\n",
    "\n",
    "N, D = X.shape\n",
    "print(\"Num elements:\", N)\n",
    "print(\"Num features:\", D)\n",
    "\n",
    "y = y * 2 - 1  # Конвертировать метки из 0, 1 в -1, 1.\n",
    "print(\"Sample features:\", X.flatten()[:5])\n",
    "print(\"Sample targets:\", y[-10:])"
   ]
  },
  {
   "cell_type": "markdown",
   "id": "c7d26a6b",
   "metadata": {},
   "source": [
    "**Задание 1.** Реализуйте SVM loss на PyTorch для батча данных. Предлагается усреднить значения лосса для всех элементов батча.\n",
    "\n",
    "Обратите внимание на функции torch.clip, torch.square и torch.linalg.norm."
   ]
  },
  {
   "cell_type": "code",
   "execution_count": null,
   "id": "5a26541f",
   "metadata": {},
   "outputs": [],
   "source": [
    "def svm_loss(X, y, w, b, l=0.001):\n",
    "    \"\"\"SVM Loss.\n",
    "    \n",
    "    Args:\n",
    "        X: Входные признаки с размерностью (Batch, Dim).\n",
    "        y: Входные метки с размерностью (Batch).\n",
    "        w: Вектор весов с размерностью (Dim).\n",
    "        b: Смещение (скаляр).\n",
    "        l: Параметр регуляризации.\n",
    "        \n",
    "    Returns:\n",
    "        Функция возвращает скаляр со значением лосса.\n",
    "    \"\"\"\n",
    "    # Ваше решение здесь.\n",
    "    return ...\n",
    "\n",
    "\n",
    "# Проверки.\n",
    "loss = svm_loss(X, y,\n",
    "                w=torch.ones(D, requires_grad=True),\n",
    "                b=torch.full([], 0.5, requires_grad=True))\n",
    "assert abs(loss.item() - 0.88758) < 1e-5\n",
    "assert loss.requires_grad\n",
    "del loss"
   ]
  },
  {
   "cell_type": "markdown",
   "id": "deadd97b",
   "metadata": {},
   "source": [
    "**Задание 2** Создайте оптимизатор с шагом обучения 0.1.\n",
    "\n",
    "Обратите внимание на функцию torch.optim.SGD."
   ]
  },
  {
   "cell_type": "code",
   "execution_count": null,
   "id": "edb0ce57",
   "metadata": {},
   "outputs": [],
   "source": [
    "def make_optimizer(w, b):\n",
    "    \"\"\"Возвращает оптимизатор для параметров w и b.\"\"\"\n",
    "    # Ваше решение здесь.\n",
    "    return ...\n",
    "\n",
    "\n",
    "# Проверки.\n",
    "optimizer = make_optimizer(w=torch.ones(D, requires_grad=True),\n",
    "                           b=torch.full([], 0.5, requires_grad=True))\n",
    "assert abs(optimizer.param_groups[0][\"lr\"] - 0.1) < 1e-5\n",
    "assert len(optimizer.param_groups) == 1\n",
    "assert sum(p.numel() for p in optimizer.param_groups[0][\"params\"]) == 31\n",
    "del optimizer"
   ]
  },
  {
   "cell_type": "markdown",
   "id": "3cf14008",
   "metadata": {},
   "source": [
    "**Задание 3**. Реализуйте шаг обучения модели.\n",
    "\n",
    "Не забудьте обнулить градиенты перед backward.\n",
    "\n",
    "Обратите внимание на функции optimizer.zero_grad и optimizer.step. Чтобы запустить автоматическое дифференцирование нужно выполнить метод backward для значения лосс-функции."
   ]
  },
  {
   "cell_type": "code",
   "execution_count": null,
   "id": "01288f32",
   "metadata": {},
   "outputs": [],
   "source": [
    "def train_step(optimizer, X, y, w, b, l=0.001):\n",
    "    \"\"\"Сделать шаг оптимизации.\"\"\"\n",
    "    # Ваш код здесь.\n",
    "\n",
    "    \n",
    "# Проверки.\n",
    "w = torch.ones(D, requires_grad=True)\n",
    "b = torch.full([], 0.5, requires_grad=True)\n",
    "w.grad = torch.full_like(w, -1)\n",
    "optimizer = make_optimizer(w, b)\n",
    "train_step(optimizer, X, y, w, b)\n",
    "assert abs(w.grad[0].item() - 0.0560) < 1e-4, w.grad[0]\n",
    "assert abs(b.grad.item() + 0.2548) < 1e-4, b.grad\n",
    "assert abs(w[0].item() - 0.9944) < 1e-4, w[0]\n",
    "assert abs(b.item() - 0.5255) < 1e-4, b\n",
    "del w, b, optimizer"
   ]
  },
  {
   "cell_type": "markdown",
   "id": "f3c09cfe",
   "metadata": {},
   "source": [
    "**Задание 4.** Реализуйте цикл обучения: сделайте 100 шагов из начальной точки."
   ]
  },
  {
   "cell_type": "code",
   "execution_count": null,
   "id": "7e08527b",
   "metadata": {},
   "outputs": [],
   "source": [
    "def get_accuracy(X, y, w, b):\n",
    "    logits = (X * w).sum(-1) + b\n",
    "    predictions = (logits > 0).long() * 2 - 1\n",
    "    return (y == predictions).float().mean().item()\n",
    "\n",
    "\n",
    "def training_loop(X, y, w, b):\n",
    "    # Ваш код здесь.\n",
    "\n",
    "\n",
    "w = torch.arange(D).float()\n",
    "w.requires_grad = True\n",
    "b = torch.tensor([0.0], requires_grad=True)\n",
    "\n",
    "print(\"Initial accuracy:\", get_accuracy(X, y, w, b))\n",
    "training_loop(X, y, w, b)\n",
    "print(\"Final accuracy:\", get_accuracy(X, y, w, b))\n",
    "\n",
    "# Проверки.\n",
    "assert get_accuracy(X, y, w, b) > 0.9"
   ]
  }
 ],
 "metadata": {
  "kernelspec": {
   "display_name": "Python 3",
   "language": "python",
   "name": "python3"
  },
  "language_info": {
   "codemirror_mode": {
    "name": "ipython",
    "version": 3
   },
   "file_extension": ".py",
   "mimetype": "text/x-python",
   "name": "python",
   "nbconvert_exporter": "python",
   "pygments_lexer": "ipython3",
   "version": "3.8.9"
  }
 },
 "nbformat": 4,
 "nbformat_minor": 5
}
