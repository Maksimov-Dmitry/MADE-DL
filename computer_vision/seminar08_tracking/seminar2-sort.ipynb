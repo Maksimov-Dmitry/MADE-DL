{
 "cells": [
  {
   "cell_type": "markdown",
   "metadata": {},
   "source": [
    "<img style=\"float: left;\" src=\"resources/made.jpg\" width=\"35%\" height=\"35%\">\n",
    "\n",
    "# Академия MADE\n",
    "## Семинар 8 часть 2.  Simple online and realtime tracking (SORT)\n",
    "Иван Карпухин, ведущий программист-исследователь команды машинного зрения\n",
    "\n",
    "<div style=\"clear:both;\"></div>\n",
    "\n",
    "В предыдущей части семинара мы настроили фильтр Калмана. В этой части реализуем простой алгоритм трекинга на его основе.\n",
    "\n",
    "Для выполнения работы нужны следующие пакеты (Python 3):\n",
    "* filterpy\n",
    "* matplotlib\n",
    "* numpy\n",
    "* opencv-python\n",
    "* tqdm\n",
    "* pyyaml\n",
    "\n",
    "Установить их можно командой:\n",
    "```bash\n",
    "pip3 install --user filterpy matplotlib numpy opencv-python tqdm pyyaml\n",
    "```"
   ]
  },
  {
   "cell_type": "code",
   "execution_count": null,
   "metadata": {},
   "outputs": [],
   "source": [
    "# Раскомментируйте строчку ниже, чтобы установить зависимости.\n",
    "#!pip3 install --user filterpy matplotlib numpy opencv-python tqdm pyyaml"
   ]
  },
  {
   "cell_type": "code",
   "execution_count": null,
   "metadata": {},
   "outputs": [],
   "source": [
    "from IPython.display import Video\n",
    "\n",
    "import numpy as np\n",
    "from matplotlib import pyplot as plt\n",
    "\n",
    "import check\n",
    "import seminar\n",
    "\n",
    "# Исходное видео.\n",
    "VIDEO_PATH = \"data/sample.mp4\"\n",
    "\n",
    "# Видео с обнаруженными лицами.\n",
    "DEMO_PATH = \"data/sample-demo.mp4\"\n",
    "\n",
    "# Результаты работы детектора.\n",
    "DETECTIONS_PATH = \"data/sample-tracks.yaml\"\n",
    "\n",
    "# Видео, куда сохранится результат трекинга.\n",
    "OUTPUT_PATH = \"data/output-demo.mp4\""
   ]
  },
  {
   "cell_type": "markdown",
   "metadata": {},
   "source": [
    "# Входные данные для трекера (copy-paste из части 1)\n",
    "\n",
    "К нам поступил [видеофайл](https://www.youtube.com/watch?v=SvldnZ6qMGU) с записью людей на проходе в торговом центре. У нас имеется детектор лиц. Мы применили детектор лиц к видеофайлу и для каждого кадра получили набор описывающих прямоугольников (bounding box, BBox):\n",
    "\n",
    "<img align=\"left\" src=\"resources/video-frame.jpg\" width=\"80%\" height=\"80%\">\n",
    "<div style=\"clear:both;\"></div>\n",
    "\n",
    "На видео ниже полные результат работы детектора:"
   ]
  },
  {
   "cell_type": "code",
   "execution_count": null,
   "metadata": {},
   "outputs": [],
   "source": [
    "Video(DEMO_PATH, width=400)"
   ]
  },
  {
   "cell_type": "markdown",
   "metadata": {},
   "source": [
    "Результаты работы детектора лиц хранятся в списке detections. Его длина соответствует числу кадров в видео (немного короче, т.к. в конце видео не нашлось детектов). Каждый элемент detections содержит список прямоуголников для кадра видео. Каждый прямоугольник задаётся четвёркой чисел: \\[left, top, width, height\\], или сокращённо \\[l, t, w, h\\]."
   ]
  },
  {
   "cell_type": "code",
   "execution_count": null,
   "metadata": {},
   "outputs": [],
   "source": [
    "FRAME_WIDTH, FRAME_HEIGHT, NUM_FRAMES, FRAME_RATE = seminar.video_probe(VIDEO_PATH)\n",
    "print(\"Размер кадра: {}x{}\".format(FRAME_WIDTH, FRAME_HEIGHT))\n",
    "print(\"Число кадров:\", NUM_FRAMES)\n",
    "print(\"Частота кадров:\", FRAME_RATE)\n",
    "\n",
    "detections, _, markup = seminar.read_data(DETECTIONS_PATH)\n",
    "\n",
    "print()\n",
    "print(\"Общее число детектов:\", sum(map(len, detections)))\n",
    "print(\"Лица на 1-м кадре:\", detections[0])\n",
    "print(\"Лица на 60-м кадре:\", detections[59])"
   ]
  },
  {
   "cell_type": "markdown",
   "metadata": {},
   "source": [
    "# Simple online and realtime tracking (SORT)\n",
    "\n",
    "Мы хотим сгруппировать прямоугольники с разных кадров для каждого человека.\n",
    "\n",
    "Выполнять группировку мы будем последовательно: кадр за кадром. Связывать прямоугольники на соседних кадрах будем в два шага:\n",
    "\n",
    "1. предскажем куда может переместиться прямоугольник за один кадр используя фильтр Калмана,\n",
    "2. из обнаруженных на следующем кадре прямоугольников найдём ближайший к предсказанному.\n",
    "\n",
    "На изображении ниже X и Y это координаты пикселя, а T - время. Разными цветами помечены прямоугольники разных лиц.\n",
    "\n",
    "<img align=\"left\" src=\"resources/matching.jpg\" width=\"60%\" height=\"60%\">\n",
    "<div style=\"clear:both;\"></div>\n",
    "\n",
    "Близость двух прямоугольников будем мерить используя Intersection Over Union (IoU):\n",
    "\n",
    "<img align=\"left\" src=\"resources/iou.jpg\" width=\"35%\" height=\"35%\">\n",
    "<div style=\"clear:both;\"></div>\n",
    "\n",
    "Используя IoU мы сможем померить близость между каждой парой предскзанных и наблюдаемых прямоугольников. Тогда мы сможем выбрать наиболее сильные связи решив задачу о максимальном паросочетании в двудольном графе:\n",
    "\n",
    "<img align=\"left\" src=\"resources/bipartite.jpg\" width=\"70%\" height=\"70%\">\n",
    "<div style=\"clear:both;\"></div>"
   ]
  },
  {
   "cell_type": "markdown",
   "metadata": {},
   "source": [
    "ЗАДАНИЕ. Реализуйте функцию, которая вычисляет Intersection Over Union (IoU) между всеми предсказаниями и обнаруженными прямоугольниками.\n",
    "\n",
    "Поскольку время на задание ограничено, предлагаем использовать наиболее простые подходы. Быстродействие не учитывается."
   ]
  },
  {
   "cell_type": "code",
   "execution_count": null,
   "metadata": {},
   "outputs": [],
   "source": [
    "def batch_iou(predictions, detections):\n",
    "    \"\"\"Вычислить Intersection over Union между каждым предсказанием и детектом.\n",
    "    \n",
    "    Все прямоугольники в формате [left, top, width, height].\n",
    "    \n",
    "    Вход:\n",
    "    1. predictions: Предсказания фильтра Калмана, матрица размера (N, 4).\n",
    "    2. detections: Обнаруженные детектором прямоугольники, матрица размера (K, 4).\n",
    "    \n",
    "    Выход: Матрица размера (N, K) с попарными IoU.\n",
    "    \"\"\"\n",
    "    pass  # Ваш код.\n",
    "\n",
    "assert check.check_batch_iou(batch_iou)"
   ]
  },
  {
   "cell_type": "markdown",
   "metadata": {},
   "source": [
    "Теперь приступим к поиску соответствий между предсказаниями и детектами.\n",
    "\n",
    "В оригинальной реализации SORT используется Венгерский алгоритм. Предлагается реализовать более простой вариант: жадный алгоритм. Жадный алгоритм на каждом шаге добавляет соответствие с максимальным IoU, затем удаляет связанные прямоугольники из рассмотрения.\n",
    "\n",
    "ЗАДАНИЕ. Реализовать жадный алгоритм поиска соответствий. Жадность алгоритма не проверяется. Любой разумный алгоритм должен пройти тесты.\n",
    "\n",
    "Полезные функции:\n",
    "```python\n",
    "\n",
    "np.argmax(A, axis=None):\n",
    "    \"\"\"Возвращает индексы максимальных элементов в направлении оси axis.\"\"\"\n",
    "    \n",
    "np.take_along_axis(A, indices, axis=None):\n",
    "    \"\"\"Позволяет выбрать элементы матрицы по результату np.argmax.\"\"\"\n",
    "```"
   ]
  },
  {
   "cell_type": "code",
   "execution_count": null,
   "metadata": {},
   "outputs": [],
   "source": [
    "def match_bboxes(iou):\n",
    "    \"\"\"Найти соответствия между предсказаниями и детектами.\n",
    "    \n",
    "    ВНИМАНИЕ: Связывать прямоугольники с нулевым IoU не нужно.\n",
    "    \n",
    "    В обозначениях ниже N - число предсказаний, K - число детектов.\n",
    "    \n",
    "    Вход: Матрица попарных значений IoU с размером (N, K).\n",
    "    \n",
    "    Выход: Список длины N, в котором для каждого предсказания указан номер соответствующего детекта.\n",
    "           Если какое-то предсказание оказалось несвязанным, в списке нужно указать None.\n",
    "    \"\"\"\n",
    "    pass  # Ваш код.\n",
    "\n",
    "\n",
    "assert check.check_match_bboxes(match_bboxes)"
   ]
  },
  {
   "cell_type": "markdown",
   "metadata": {},
   "source": [
    "Функция ниже релизует простой вариант алгоритма SORT.\n",
    "\n",
    "1. Для каждого прямоугольника на первом кадре создается новый трек.\n",
    "\n",
    "2. Для последующих кадров выполняется поиск соответствий с использоанием IoU.\n",
    "\n",
    "3. Если какой-то трек не имеет соответствий более 2-х кадров, он заканчивается.\n",
    "\n",
    "4. Если какой-то прямоугольник не попал в трек, для него создается новый трек."
   ]
  },
  {
   "cell_type": "code",
   "execution_count": null,
   "metadata": {
    "scrolled": true
   },
   "outputs": [],
   "source": [
    "from collections import defaultdict\n",
    "\n",
    "from seminar import xysr2ltwh, ltwh2xysr, create_kalman_filter\n",
    "\n",
    "\n",
    "def track_sort(detections):\n",
    "    \"\"\"Сгруппировать прямоугольники с разных кадров используя фильтр Калмана и IoU.\n",
    "    \n",
    "    Вход: Список ответов детектора для каждого кадра. Каждый ответ детектора это список\n",
    "          прямоугольников в формате LTWH.\n",
    "          \n",
    "    Выход: Список меток прямоугольников для каждого кадра. Метки для каждого кадра это список\n",
    "           целочисленных меток всех прямоугольников кадра.\n",
    "    \"\"\"\n",
    "    num_tracks = 0\n",
    "    track_frames = defaultdict(list)\n",
    "    track_detection_ids = defaultdict(list)\n",
    "    track_filters = {}\n",
    "    for frame, frame_detections in enumerate(detections):\n",
    "        print(\"Кадр\", frame)\n",
    "        \n",
    "        # Закончить старые треки.\n",
    "        for track in list(track_filters):\n",
    "            last_track_frame = track_frames[track][-1]\n",
    "            if last_track_frame < frame - 2:\n",
    "                del track_filters[track]\n",
    "                print(\"Трек {} завершён\".format(track))\n",
    "        \n",
    "        # Предсказать следующие прямоугольники для треков.\n",
    "        for filter in track_filters.values():\n",
    "            filter.predict()\n",
    "        active_tracks = list(track_filters)\n",
    "        predictions = [xysr2ltwh(track_filters[i].x[:4]) for i in active_tracks]\n",
    "        \n",
    "        # Связать предсказания и детекты.\n",
    "        iou = batch_iou(predictions, frame_detections)\n",
    "        matches = match_bboxes(iou)\n",
    "        print(\"Продолжено треков: {}\".format(len([m for m in matches if m is not None])))\n",
    "        \n",
    "        # Обновить треки.\n",
    "        for track_id, match in enumerate(matches):\n",
    "            if match is None:\n",
    "                continue\n",
    "            track = active_tracks[track_id]\n",
    "            track_frames[track].append(frame)\n",
    "            track_detection_ids[track].append(match)\n",
    "            track_filters[track].update(ltwh2xysr(frame_detections[match]))\n",
    "            \n",
    "        # Добавить новые треки.\n",
    "        all_detections = set(range(len(frame_detections)))\n",
    "        matched_detections = {m for m in matches if m is not None}\n",
    "        unmatched_detections = all_detections - matched_detections\n",
    "        for i in unmatched_detections:\n",
    "            track_frames[num_tracks].append(frame)\n",
    "            track_detection_ids[num_tracks].append(i)\n",
    "            \n",
    "            bbox = frame_detections[i]\n",
    "            initial_state = list(ltwh2xysr(bbox)) + [0, 0, 0]\n",
    "            track_filters[num_tracks] = create_kalman_filter(initial_state)\n",
    "            \n",
    "            print(\"Трек {} создан\".format(num_tracks))\n",
    "            num_tracks += 1\n",
    "            \n",
    "    # Сформировать ответ.\n",
    "    labels = [[None] * len(frame_detections) for frame_detections in detections]\n",
    "    for track in track_frames.keys():\n",
    "        for frame, detection_id in zip(track_frames[track], track_detection_ids[track]):\n",
    "            labels[frame][detection_id] = track\n",
    "            \n",
    "    # Проверим, что заполнили все метки.\n",
    "    for frame_labels in labels:\n",
    "        for label in frame_labels:\n",
    "            assert label is not None\n",
    "\n",
    "    return labels\n",
    "\n",
    "\n",
    "labels = track_sort(detections)"
   ]
  },
  {
   "cell_type": "code",
   "execution_count": null,
   "metadata": {
    "scrolled": true
   },
   "outputs": [],
   "source": [
    "error = seminar.eval_mismatch_rate(labels, markup)\n",
    "print(\"Доля несоответствий с разметкой: {:.2f}\".format(error))"
   ]
  },
  {
   "cell_type": "markdown",
   "metadata": {},
   "source": [
    "# Визуализация"
   ]
  },
  {
   "cell_type": "code",
   "execution_count": null,
   "metadata": {},
   "outputs": [],
   "source": [
    "seminar.render_video_bboxes(VIDEO_PATH, OUTPUT_PATH, detections, labels)"
   ]
  },
  {
   "cell_type": "markdown",
   "metadata": {},
   "source": [
    "На видео прямоугольники разных треков помечены разным цветом.\n",
    "\n",
    "Мигание цвета на каких-то лицах - это ошибки трекинга. Более точная настройка параметров (STD ошибок в фильтре Калмана) может решить проблему. Часть проблем нельзя решить методом SORT на видео с низким FPS."
   ]
  },
  {
   "cell_type": "code",
   "execution_count": null,
   "metadata": {},
   "outputs": [],
   "source": [
    "print(OUTPUT_PATH)\n",
    "Video(OUTPUT_PATH)"
   ]
  },
  {
   "cell_type": "markdown",
   "metadata": {},
   "source": [
    "Если видео не отображается, откройте его самостоятельно через плеер.\n",
    "\n",
    "ВОПРОС. В каких случаях трекинг работает хорошо, а в каких плохо?"
   ]
  },
  {
   "cell_type": "markdown",
   "metadata": {},
   "source": [
    "# Ссылки\n",
    "\n",
    "## Фильтр Калмана\n",
    "\n",
    "https://habr.com/ru/post/166693/\n",
    "\n",
    "https://en.wikipedia.org/wiki/Kalman_filter\n",
    "\n",
    "## Статьи\n",
    "\n",
    "SORT: https://arxiv.org/abs/1602.00763\n",
    "\n",
    "DeepSORT: https://arxiv.org/abs/1703.07402\n",
    "\n",
    "## Реализации\n",
    "\n",
    "Kalman: https://filterpy.readthedocs.io/en/latest/kalman/KalmanFilter.html\n",
    "\n",
    "SORT: https://github.com/abewley/sort\n",
    "\n",
    "DeepSORT: https://github.com/nwojke/deep_sort"
   ]
  }
 ],
 "metadata": {
  "kernelspec": {
   "display_name": "Python 3",
   "language": "python",
   "name": "python3"
  },
  "language_info": {
   "codemirror_mode": {
    "name": "ipython",
    "version": 3
   },
   "file_extension": ".py",
   "mimetype": "text/x-python",
   "name": "python",
   "nbconvert_exporter": "python",
   "pygments_lexer": "ipython3",
   "version": "3.8.5"
  }
 },
 "nbformat": 4,
 "nbformat_minor": 4
}
