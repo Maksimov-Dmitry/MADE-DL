{
 "cells": [
  {
   "cell_type": "markdown",
   "metadata": {},
   "source": [
    "<img style=\"float: left;\" src=\"resources/made.jpg\" width=\"35%\" height=\"35%\">\n",
    "\n",
    "# Академия MADE\n",
    "## Семинар 8 часть 1. Трекинг: фильтр Калмана\n",
    "Иван Карпухин, ведущий программист-исследователь команды машинного зрения\n",
    "\n",
    "<div style=\"clear:both;\"></div>\n",
    "\n",
    "В этой части семинара применим фильтр Калмана к предсказанию перемещения людей.\n",
    "\n",
    "Мы воспользуемся готовой реализацией фильтра. В рамках семинара предлагается настроить парметры фильтра и применить его.\n",
    "\n",
    "Для выполнения работы нужны следующие пакеты (Python 3):\n",
    "* filterpy\n",
    "* matplotlib\n",
    "* numpy\n",
    "* opencv-python\n",
    "* pyyaml\n",
    "\n",
    "Установить их можно командой:\n",
    "```bash\n",
    "pip3 install --user filterpy matplotlib numpy opencv-python pyyaml\n",
    "```"
   ]
  },
  {
   "cell_type": "code",
   "execution_count": 1,
   "metadata": {},
   "outputs": [],
   "source": [
    "# Раскомментируйте строчку ниже, чтобы установить зависимости.\n",
    "#!pip3 install --user filterpy matplotlib numpy opencv-python pyyaml"
   ]
  },
  {
   "cell_type": "code",
   "execution_count": 2,
   "metadata": {},
   "outputs": [],
   "source": [
    "from IPython.display import Video\n",
    "\n",
    "import numpy as np\n",
    "from matplotlib import pyplot as plt\n",
    "\n",
    "import check\n",
    "import seminar\n",
    "\n",
    "# Исходное видео.\n",
    "VIDEO_PATH = \"data/sample.mp4\"\n",
    "\n",
    "# Видео с обнаруженными лицами.\n",
    "DEMO_PATH = \"data/sample-demo.mp4\"\n",
    "\n",
    "# Результаты работы детектора.\n",
    "DETECTIONS_PATH = \"data/sample-tracks.yaml\""
   ]
  },
  {
   "cell_type": "markdown",
   "metadata": {},
   "source": [
    "# Входные данные для трекера\n",
    "\n",
    "К нам поступил [видеофайл](https://www.youtube.com/watch?v=SvldnZ6qMGU) с записью людей на проходе в торговом центре. У нас имеется детектор лиц. Мы применили детектор лиц к видеофайлу и для каждого кадра получили набор описывающих прямоугольников (bounding box, BBox):\n",
    "\n",
    "<img align=\"left\" src=\"resources/video-frame.jpg\" width=\"80%\" height=\"80%\">\n",
    "<div style=\"clear:both;\"></div>\n",
    "\n",
    "На видео ниже полные результат работы детектора:"
   ]
  },
  {
   "cell_type": "code",
   "execution_count": 3,
   "metadata": {},
   "outputs": [
    {
     "data": {
      "text/html": [
       "<video src=\"data/sample-demo.mp4\" controls  width=\"400\" >\n",
       "      Your browser does not support the <code>video</code> element.\n",
       "    </video>"
      ],
      "text/plain": [
       "<IPython.core.display.Video object>"
      ]
     },
     "execution_count": 3,
     "metadata": {},
     "output_type": "execute_result"
    }
   ],
   "source": [
    "Video(DEMO_PATH, width=400)"
   ]
  },
  {
   "cell_type": "markdown",
   "metadata": {},
   "source": [
    "Результаты работы детектора лиц хранятся в списке detections. Его длина соответствует числу кадров в видео (немного короче, т.к. в конце видео не нашлось детектов). Каждый элемент detections содержит список прямоуголников для кадра видео. Каждый прямоугольник задаётся четвёркой чисел: \\[left, top, width, height\\], или сокращённо \\[l, t, w, h\\]."
   ]
  },
  {
   "cell_type": "code",
   "execution_count": 4,
   "metadata": {},
   "outputs": [
    {
     "name": "stdout",
     "output_type": "stream",
     "text": [
      "Размер кадра: 960x720\n",
      "Число кадров: 119\n",
      "Частота кадров: 6.0\n",
      "\n",
      "Общее число детектов: 393\n",
      "Лица на 1-м кадре: [[228, 363, 61, 75]]\n",
      "Лица на 60-м кадре: [[139, 601, 80, 109], [542, 134, 49, 58], [460, 99, 47, 63]]\n"
     ]
    }
   ],
   "source": [
    "FRAME_WIDTH, FRAME_HEIGHT, NUM_FRAMES, FRAME_RATE = seminar.video_probe(VIDEO_PATH)\n",
    "print(\"Размер кадра: {}x{}\".format(FRAME_WIDTH, FRAME_HEIGHT))\n",
    "print(\"Число кадров:\", NUM_FRAMES)\n",
    "print(\"Частота кадров:\", FRAME_RATE)\n",
    "\n",
    "detections, _, _ = seminar.read_data(DETECTIONS_PATH)\n",
    "print()\n",
    "print(\"Общее число детектов:\", sum(map(len, detections)))\n",
    "print(\"Лица на 1-м кадре:\", detections[0])\n",
    "print(\"Лица на 60-м кадре:\", detections[59])"
   ]
  },
  {
   "cell_type": "markdown",
   "metadata": {},
   "source": [
    "ЗАДАНИЕ: Какая высота у 2-го прямоугольника на 16-м кадре?"
   ]
  },
  {
   "cell_type": "code",
   "execution_count": null,
   "metadata": {},
   "outputs": [],
   "source": [
    "height_16_2 =  # Ваш код.\n",
    "\n",
    "assert check.check_height_16_2(height_16_2, detections)"
   ]
  },
  {
   "cell_type": "markdown",
   "metadata": {},
   "source": [
    "# Фильтр Калмана\n",
    "\n",
    "Мы хотим сгруппировать прямоугольники с разных кадров для каждого человека. На изображении ниже X и Y это координаты пикселя, а T - время. Разными цветами помечены прямоугольники разных лиц.\n",
    "\n",
    "<img align=\"left\" src=\"resources/tracking.jpg\" width=\"35%\" height=\"35%\">\n",
    "<div style=\"clear:both;\"></div>\n",
    "\n",
    "Выполнять группировку мы будем последовательно: кадр за кадром. Связывать прямоугольники на соседних кадрах будем в два шага:\n",
    "\n",
    "1. предскажем куда может переместиться прямоугольник за один кадр,\n",
    "2. из обнаруженных на следующем кадре прямоугольников найдём ближайший к предсказанному.\n",
    "\n",
    "<img align=\"left\" src=\"resources/prediction.jpg\" width=\"35%\" height=\"35%\">\n",
    "<div style=\"clear:both;\"></div>\n",
    "\n",
    "В этой части семинара реализуем только шаг предсказания.\n",
    "\n",
    "В алгоритме [Simple online and realtime tracking (SORT)](https://arxiv.org/pdf/1602.00763.pdf]) задача предсказания решается с использованием фильтра Калмана.\n",
    "\n",
    "Чтобы применить фильтр, нужно определить динамический процесс. Состояние каждого прямоугольника в каждый момент времени будем описывать вектором \\[x, y, s, r, x', y', s'\\], где:\n",
    "* x: X координата центра прямоугольника\n",
    "* y: Y координата центра прямоугольника\n",
    "* s: Масштаб, среднее арифметическое ширины и высоты: 0.5 * (width + height)\n",
    "* r: Отношение ширины и высоты: width / height\n",
    "* x': Скорость изменения X\n",
    "* y': Скорость изменения Y\n",
    "* s': Скорость изменения масштаба\n",
    "\n",
    "Параметр r считается постоянным и для него нет скорости изменения.\n",
    "\n",
    "Фильтр Калмана позволяет по новому наблюдению оптимально обновить состояние. Поскольку состояние содержит положение и скорость, мы сможем по состоянию предсказать следующий прямоугольник."
   ]
  },
  {
   "cell_type": "markdown",
   "metadata": {},
   "source": [
    "ЗАДАНИЕ. В фильтре используется формат прямоугольников \\[x, y, s, r\\], отличный от исходного \\[l, t, w, h\\]. Предлагается реализовать преобразование формата в функции ниже."
   ]
  },
  {
   "cell_type": "code",
   "execution_count": null,
   "metadata": {},
   "outputs": [],
   "source": [
    "def ltwh2xysr(ltwh):\n",
    "    \"\"\"Преобразовать формат прямоугольника из [l, t, w, h] в [x, y, s, r].\n",
    "    \n",
    "    Вход может содержать вещественные числа. Выход не нужо округлять до целых.\n",
    "    \n",
    "    На входе и на выходе могут быть и списки и массивы Numpy.\n",
    "    \n",
    "    Вход: прямоугольник в формате [l, t, w, h].\n",
    "    Выход: прямоугольник в формате [x, y, s, r].\n",
    "    \"\"\"\n",
    "    pass  # Ваш код.\n",
    "\n",
    "\n",
    "assert check.check_ltwh2xysr(ltwh2xysr)"
   ]
  },
  {
   "cell_type": "markdown",
   "metadata": {},
   "source": [
    "Аналогично введём обратное преобразование"
   ]
  },
  {
   "cell_type": "code",
   "execution_count": null,
   "metadata": {},
   "outputs": [],
   "source": [
    "def xysr2ltwh(xysr):\n",
    "    \"\"\"Преобразовать формат прямоугольника из [x, y, s, r] в [l, t, w, h].\n",
    "    \n",
    "    На входе и на выходе могут быть и списки и массивы Numpy.\n",
    "    \n",
    "    Вход может содержать вещественные числа. Выход не нужо округлять до целых.\n",
    "    \n",
    "    Вход: прямоугольник в формате [x, y, s, r].\n",
    "    Выход: прямоугольник в формате [l, t, w, h].\n",
    "    \"\"\"\n",
    "    h = 2 * xysr[2] / (xysr[3] + 1)\n",
    "    w = xysr[3] * h\n",
    "    return [\n",
    "        xysr[0] - w / 2,\n",
    "        xysr[1] - h / 2,\n",
    "        w,\n",
    "        h\n",
    "    ]"
   ]
  },
  {
   "cell_type": "markdown",
   "metadata": {},
   "source": [
    "Фильтр Калмана применяется к процессам вида:\n",
    "\n",
    "$State_k = F State_{k-1} + B u_k + w_k$\n",
    "\n",
    "Обозначения:\n",
    "\n",
    "$State_k$ - состояние \\[x, y, s, r, x', y', s'\\] в момент времени k.\n",
    "\n",
    "$F$ - матрица эволюции системы, которая по предыдущему состоянию позволяет предсказать следующее.\n",
    "\n",
    "$B$ - матрица управляющего воздействие (нулевая матрица, т.к. мы только наблюдаем).\n",
    "\n",
    "$u_k$ - управляющее воздействие (нулевой вектор, т.к. мы только наблюдаем).\n",
    "\n",
    "$w_k$ - ошибка предсказания модели: случайный вектор с распределением $\\mathcal{N}(0, Q)$, где $Q$ - ковариационная матрица.\n",
    "\n",
    "<br>\n",
    "\n",
    "Поскольку $B$ и $u_k$ в нашем случае равны нулю, получаем:\n",
    "\n",
    "$State_k = F State_{k-1}  + w_k$\n",
    "\n",
    "<br>\n",
    "\n",
    "Мы умеем предсказывать следующее состояние, но также умеем наблюдать реальные исходы $z_k$:\n",
    "\n",
    "$z_k = H_k x_k + v_k$\n",
    "\n",
    "Здесь $H_k$ - матрица, которая преобразует состояние в наблюдение. На каждом кадре мы наблюдаем только прямоугольник. Скорость считается скрытым параметром. Т.е. вектор $z_k$ задаётся четвёркой \\[x, y, s, r\\], а умножение на матрицу $H_k$ должно из состояния извлеч все числа кроме скорости: \\[x, y, s, r, x', y', s'\\] -> \\[x, y, s, r\\].\n",
    "\n",
    "Наблюдения неточные, они имеют ошибку $v_k$ - вектор, распределеный нормально $\\mathcal{N}(0, R)$ с матрицей ковариации R.\n",
    "\n",
    "Подробнее на [Wikipedia](https://ru.wikipedia.org/wiki/%D0%A4%D0%B8%D0%BB%D1%8C%D1%82%D1%80_%D0%9A%D0%B0%D0%BB%D0%BC%D0%B0%D0%BD%D0%B0)"
   ]
  },
  {
   "cell_type": "markdown",
   "metadata": {},
   "source": [
    "ЗАДАНИЕ. Предлагается заполнить матрицы F, Q, H, R.\n",
    "\n",
    "Полезные функции:\n",
    "\n",
    "```python\n",
    "np.diag(a):\n",
    "    \"\"\"По вектору строит диагональную матрицу.\"\"\"\n",
    "    \n",
    "np.eye((x, y)):\n",
    "    \"\"\"Возвращает прямоугольную матрицу с 1 на диагонали. Остальные элементы равны 0.\"\"\"\n",
    "```"
   ]
  },
  {
   "cell_type": "code",
   "execution_count": null,
   "metadata": {},
   "outputs": [],
   "source": [
    "def get_F():\n",
    "    \"\"\"Возвращает матрицу F.\n",
    "    \n",
    "    F - матрица обновления состояния: State_k = F State_{k-1} + w_k.\n",
    "    \n",
    "    На выходе может быть и список списков и массив Numpy.\n",
    "    \"\"\"\n",
    "    pass  # Ваш код.\n",
    "\n",
    "\n",
    "assert check.check_get_F(get_F)"
   ]
  },
  {
   "cell_type": "code",
   "execution_count": null,
   "metadata": {},
   "outputs": [],
   "source": [
    "def get_Q(pos_std=1, scale_std=1, aspect_std=1,\n",
    "          pos_velocity_std=0.1, scale_velocity_std=0.01):\n",
    "    \"\"\"Возвращает матрицу Q.\n",
    "    \n",
    "    Q - ковариационная матрица ошибки модели w_k.\n",
    "    \n",
    "    На выходе может быть и список списков и массив Numpy.\n",
    "    \n",
    "    Вход:\n",
    "    1. pos_std, scale_std, aspert_std - стандартные отклонения ошибок (x, y), s, и r.\n",
    "    2. pos_velocity_std, scale_velocity_std - стандартные отклонения ошибок скоростей (x, y) и s.\n",
    "    \n",
    "    Выход: матрица Q.\n",
    "    \"\"\"\n",
    "    pass  # Ваш код.\n",
    "\n",
    "\n",
    "assert check.check_get_Q(get_Q)"
   ]
  },
  {
   "cell_type": "code",
   "execution_count": null,
   "metadata": {},
   "outputs": [],
   "source": [
    "def get_H():\n",
    "    \"\"\"Возвращает матрицу H.\n",
    "    \n",
    "    H - матрица отображения состояния в наблюдение: H [x, y, s, r, x', y', s'] -> [x, y, s, r].\n",
    "    \n",
    "    На выходе может быть и список списков и массив Numpy.\n",
    "    \"\"\"\n",
    "    pass  # Ваш код.\n",
    "\n",
    "\n",
    "assert check.check_get_H(get_H)"
   ]
  },
  {
   "cell_type": "code",
   "execution_count": null,
   "metadata": {},
   "outputs": [],
   "source": [
    "def get_R(pos_std=0.1, scale_std=3, aspect_std=3):\n",
    "    \"\"\"Возвращает матрицу R.\n",
    "    \n",
    "    R - ковариационная матрица ошибки наблюдения v_k.\n",
    "    \n",
    "    На выходе может быть и список списков и массив Numpy.\n",
    "    \"\"\"\n",
    "    pass  # Ваш код.\n",
    "\n",
    "\n",
    "assert check.check_get_R(get_R)"
   ]
  },
  {
   "cell_type": "markdown",
   "metadata": {},
   "source": [
    "Начальное состояние фильтра мы инициализируем первым наблюдаемым прямоугольником, и только потом начинаем прдесазывать следующие прямоугольники. Наблюдение содержит в себе шум и совпадает с истинным состоянием лишь приблизительно. Для работы фильтра нужно определить матрицу ковариаций начального состояния.\n",
    "\n",
    "ЗАДАНИЕ. Предлагается определить начальную ковариационную матрицу $P$ состояния системы. Она задаёт неопределённость состояния в начальный момент времени."
   ]
  },
  {
   "cell_type": "code",
   "execution_count": null,
   "metadata": {},
   "outputs": [],
   "source": [
    "def get_P(pos_std=3, scale_std=3, aspect_std=3,\n",
    "          pos_velocity_std=100, scale_velocity_std=100):\n",
    "    \"\"\"Возвращает матрицу P.\n",
    "    \n",
    "    P - ковариационная матрица начального состояния фильтра.\n",
    "    \n",
    "    Вход:\n",
    "    1. pos_std, scale_std, aspert_std - стандартные отклонения ошибок (x, y), s, и r.\n",
    "    2. pos_velocity_std, scale_velocity_std - стандартные отклонения ошибок скоростей (x, y) и s.\n",
    "    \n",
    "    Выход: матрица P.\n",
    "    \"\"\"\n",
    "    pass  # Ваш код.\n",
    "\n",
    "\n",
    "assert check.check_get_P(get_P)"
   ]
  },
  {
   "cell_type": "markdown",
   "metadata": {},
   "source": [
    "# Применение фильтра (писать код не нужно)\n",
    "\n",
    "Протестируем фильтр на примере последовательности лиц одного человека.\n",
    "\n",
    "В качестве реализации фильтра Калмана мы используем библиотеку filterpy. Нам потребуется класс KalmanFilter и следующие его методы:\n",
    "\n",
    "```python\n",
    "KalmanFilter.__init__(self, dim_x, dim_z):\n",
    "    \"\"\"Создать новый фильтр.\n",
    "    \n",
    "    dim_x - размер состояния\n",
    "    dim_z - размер наблюдения\n",
    "    \"\"\"\n",
    "    \n",
    "KalmanFilter.predict(self):\n",
    "    \"\"\"Предсказать следующее состояние. Новое состояние сохраняется в фильтре.\"\"\"\n",
    "    \n",
    "KalmanFilter.update(self, z):\n",
    "    \"\"\"Обновить состояние фильтра используя новое наблюдение z и сохранённое ранее предсказание.\"\"\"\n",
    "```\n",
    "\n",
    "Если f - фильтр, то получить текущее состояние можно так:\n",
    "```python\n",
    "f.x\n",
    "```\n",
    "\n",
    "Можно преобразовать состояние \\[x, y, s, r, x', y', s'\\] в наблюдение \\[x, y, s, r\\]:\n",
    "```python\n",
    "f.measurement_of_state(filter.x)\n",
    "```\n",
    "\n",
    "Параметры фильтра задаются через присваивание атрибутов\n",
    "```python\n",
    "f.F = ...\n",
    "f.Q = ...\n",
    "...\n",
    "```\n",
    "\n",
    "Применение фильтра состоит в поочерёдном вызове методов predict и update."
   ]
  },
  {
   "cell_type": "code",
   "execution_count": null,
   "metadata": {},
   "outputs": [],
   "source": [
    "from filterpy.kalman import KalmanFilter\n",
    "\n",
    "\n",
    "def create_kalman_filter(initial_state=None):\n",
    "    f = KalmanFilter(dim_x=7, dim_z=4)\n",
    "    \n",
    "    if initial_state is not None:\n",
    "        f.x = np.asarray(initial_state)\n",
    "\n",
    "    f.F = np.asarray(get_F())\n",
    "    f.Q = np.asarray(get_Q())\n",
    "    f.H = np.asarray(get_H())\n",
    "    f.R = np.asarray(get_R())\n",
    "    f.P = np.asarray(get_P())\n",
    "    \n",
    "    return f"
   ]
  },
  {
   "cell_type": "code",
   "execution_count": null,
   "metadata": {},
   "outputs": [],
   "source": [
    "def predict(bboxes_xysr):\n",
    "    \"\"\"В каждый момент времени предсказать следующий прямоугольник используя все предыдущие.\n",
    "    \n",
    "    Вход:\n",
    "    1. filter: Фильтр Калмана.\n",
    "    2. bboxes_xysr: Список прямоугольников одного человека.\n",
    "                    Часть элементов может быть None, если на кадре лицо не нашлось.\n",
    "                    \n",
    "    Выход:\n",
    "    1. Список предсказанных прямоугольников той же длины, что и bboxes_xysr.\n",
    "    2. Финальное состояние фильтра.\n",
    "    \"\"\"\n",
    "    \n",
    "    # Инициализируем фильтр для нового прогона используя первый прямоугольник.\n",
    "    # Скорости изначально выставляем в 0.\n",
    "    assert bboxes_xysr[0] is not None\n",
    "    filter = create_kalman_filter(\n",
    "        initial_state=list(bboxes_xysr[0]) + [0, 0, 0]\n",
    "    )\n",
    "    \n",
    "    predictions = []\n",
    "    for bbox in bboxes_xysr:\n",
    "        # Шаг 1: предсказываем следующее состояние.\n",
    "        filter.predict()\n",
    "        \n",
    "        # Сохраняем предсказанное значение.\n",
    "        predictions.append(filter.measurement_of_state(filter.x))\n",
    "        \n",
    "        # Шаг2. Скорректируем состояние, если на данном кадре есть лицо человека.\n",
    "        # Если лица нет, то следующий predict продолжит процесс без изменения скоростей.\n",
    "        if bbox is not None:\n",
    "            filter.update(bbox)\n",
    "    return predictions, filter.x\n",
    "\n",
    "# Загрузим пример цепочки прямоугольников в формате [l, t, w, h].\n",
    "bboxes = seminar.load_track_detections(DETECTIONS_PATH, 6)\n",
    "print(\"Число кадров в треке:\", len(bboxes))\n",
    "\n",
    "# Конвертируем в формат [x, y, s, r] для фильтра.\n",
    "bboxes_xysr = [(ltwh2xysr(bbox) if bbox is not None else None)\n",
    "               for bbox in bboxes]\n",
    "\n",
    "# В каждый момент времени предскажем следующий прямоугольник используя все предыдущие.\n",
    "predictions_xysr, final_state = predict(bboxes_xysr)\n",
    "\n",
    "print(\"Финальное состояние фильтра:\\n{}\".format(final_state))"
   ]
  },
  {
   "cell_type": "markdown",
   "metadata": {},
   "source": [
    "ВОПРОС. В модель заложено, что скорость не изменяется. Почему скорость в начальном состоянии 0, а в конечном не 0?"
   ]
  },
  {
   "cell_type": "code",
   "execution_count": null,
   "metadata": {},
   "outputs": [],
   "source": [
    "print(\"Серые прямоугольники - реальные детекты лиц из видео\")\n",
    "print(\"Красные прямоугольники - предсказанные фильтром по истории наблюдений\")\n",
    "print(\"Насыщенность цвета отражает течение времени\")\n",
    "# Для наглядности выводим каждый третий кадр.\n",
    "plt.imshow(seminar.render_bboxes(bboxes_xysr[2::3], predictions_xysr[2::3], is_xysr=True))\n",
    "plt.show()"
   ]
  },
  {
   "cell_type": "markdown",
   "metadata": {},
   "source": [
    "Обратите внимание на отдельно стоящий красный прямоугольник в центре. На этом кадре лицо не нашлось, наблюдения нет. Есть только предсказание, которое неплохо интерполирует между соседними кадрами."
   ]
  },
  {
   "cell_type": "markdown",
   "metadata": {},
   "source": [
    "# Другие примеры фильтрации (писать код не нужно)\n",
    "\n",
    "### Синусоида"
   ]
  },
  {
   "cell_type": "code",
   "execution_count": null,
   "metadata": {},
   "outputs": [],
   "source": [
    "def generate_sin_boxes():\n",
    "    bboxes = []\n",
    "    for x in np.linspace(0, 14, 20):\n",
    "        bboxes.append([50 * x, 50 * np.sin(x), 20, 20])\n",
    "    return bboxes\n",
    "\n",
    "bboxes = generate_sin_boxes()\n",
    "bboxes_xysr = [(ltwh2xysr(bbox) if bbox is not None else None)\n",
    "               for bbox in bboxes]\n",
    "predictions_xysr, _ = predict(bboxes_xysr)\n",
    "\n",
    "print(\"Серые прямоугольники - реальные детекты лиц из видео\")\n",
    "print(\"Красные прямоугольники - предсказанные фильтром по истории наблюдений\")\n",
    "print(\"Насыщенность цвета отражает течение времени\")\n",
    "plt.imshow(seminar.render_bboxes(bboxes_xysr, predictions_xysr, is_xysr=True))\n",
    "plt.show()"
   ]
  },
  {
   "cell_type": "markdown",
   "metadata": {},
   "source": [
    "### Масштаб"
   ]
  },
  {
   "cell_type": "code",
   "execution_count": null,
   "metadata": {},
   "outputs": [],
   "source": [
    "def generate_scale_boxes():\n",
    "    bboxes = []\n",
    "    for x in np.linspace(0, 7, 10):\n",
    "        s = 3 * (x + 6)\n",
    "        bboxes.append([50 * x - s / 2, - s / 2, s, s])\n",
    "    return bboxes\n",
    "\n",
    "bboxes = generate_scale_boxes()\n",
    "bboxes_xysr = [(ltwh2xysr(bbox) if bbox is not None else None)\n",
    "               for bbox in bboxes]\n",
    "predictions_xysr, _ = predict(bboxes_xysr)\n",
    "\n",
    "print(\"Серые прямоугольники - реальные детекты лиц из видео\")\n",
    "print(\"Красные прямоугольники - предсказанные фильтром по истории наблюдений\")\n",
    "print(\"Насыщенность цвета отражает течение времени\")\n",
    "plt.imshow(seminar.render_bboxes(bboxes_xysr, predictions_xysr, is_xysr=True))\n",
    "plt.show()"
   ]
  },
  {
   "cell_type": "markdown",
   "metadata": {},
   "source": [
    "Фильтр хорошо оценивает линейный рост размера прямоугольника: предсказанные красные прямоугольники почти совпадают с наблюдаемыми серыми."
   ]
  },
  {
   "cell_type": "markdown",
   "metadata": {},
   "source": [
    "# Ссылки\n",
    "\n",
    "## Фильтр Калмана\n",
    "\n",
    "https://habr.com/ru/post/166693/\n",
    "\n",
    "https://en.wikipedia.org/wiki/Kalman_filter\n",
    "\n",
    "## Статьи\n",
    "\n",
    "SORT: https://arxiv.org/abs/1602.00763\n",
    "\n",
    "DeepSORT: https://arxiv.org/abs/1703.07402\n",
    "\n",
    "## Реализации\n",
    "\n",
    "Kalman: https://filterpy.readthedocs.io/en/latest/kalman/KalmanFilter.html\n",
    "\n",
    "SORT: https://github.com/abewley/sort\n",
    "\n",
    "DeepSORT: https://github.com/nwojke/deep_sort"
   ]
  }
 ],
 "metadata": {
  "kernelspec": {
   "display_name": "Python 3",
   "language": "python",
   "name": "python3"
  },
  "language_info": {
   "codemirror_mode": {
    "name": "ipython",
    "version": 3
   },
   "file_extension": ".py",
   "mimetype": "text/x-python",
   "name": "python",
   "nbconvert_exporter": "python",
   "pygments_lexer": "ipython3",
   "version": "3.6.11"
  }
 },
 "nbformat": 4,
 "nbformat_minor": 4
}
