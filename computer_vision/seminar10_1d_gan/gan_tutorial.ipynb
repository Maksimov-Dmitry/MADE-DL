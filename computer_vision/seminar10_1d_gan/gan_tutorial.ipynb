{
 "cells": [
  {
   "cell_type": "markdown",
   "metadata": {},
   "source": [
    "# Семинар по ганам"
   ]
  },
  {
   "cell_type": "code",
   "execution_count": 1,
   "metadata": {},
   "outputs": [],
   "source": [
    "import torch\n",
    "from torch import nn\n",
    "import numpy as np\n",
    "\n",
    "torch.manual_seed(0)\n",
    "\n",
    "import seaborn as sns\n",
    "import matplotlib.pyplot as plt\n",
    "%matplotlib inline\n",
    "from IPython.display import clear_output"
   ]
  },
  {
   "cell_type": "markdown",
   "metadata": {},
   "source": [
    "# Define samplers"
   ]
  },
  {
   "cell_type": "code",
   "execution_count": null,
   "metadata": {},
   "outputs": [],
   "source": [
    "# inspired by: https://github.com/togheppi/vanilla_GAN/blob/master/1D_Gaussian_GAN_pytorch.py#L10\n",
    "\n",
    "# Data distribution\n",
    "class DataDistribution:\n",
    "    def __init__(self, mu, sigma):\n",
    "        self.mu = mu\n",
    "        self.sigma = sigma\n",
    "\n",
    "    def sample(self, num_samples):\n",
    "        samples = torch.empty(num_samples).normal_(mean=mu,std=sigma)[:, None]\n",
    "        return samples\n",
    "\n",
    "\n",
    "# Noise distribution\n",
    "class NoiseDistribution:\n",
    "    def __init__(self, data_range):\n",
    "        self.data_range = data_range\n",
    "\n",
    "    def sample(self, num_samples):\n",
    "        samples = torch.rand(num_samples, 1)\n",
    "        return samples"
   ]
  },
  {
   "cell_type": "markdown",
   "metadata": {},
   "source": [
    "# Define networks"
   ]
  },
  {
   "cell_type": "code",
   "execution_count": null,
   "metadata": {},
   "outputs": [],
   "source": [
    "class Generator(torch.nn.Module):\n",
    "    def __init__(self, input_dim, hidden_dim, output_dim):\n",
    "        super().__init__()\n",
    "        \n",
    "        \"\"\"\n",
    "        Определите двухслойную полносвязную нейросеть с нелинейности.\n",
    "        Инициализируйте линейные свои нормальным распределением\n",
    "        Инициализируйте сдвиги нулями.\n",
    "        \n",
    "        \"\"\"\n",
    "        \n",
    "        <ваш код здесь>\n",
    "        \n",
    "    def forward(self, x):\n",
    "        <ваш код здесь>\n",
    "        \n",
    "    \n",
    "class Discriminator(torch.nn.Module):\n",
    "    def __init__(self, input_dim, hidden_dim, output_dim):\n",
    "        super().__init__()\n",
    "        \n",
    "        \"\"\"\n",
    "        Определите двухслойную полносвязную нейросеть с нелинейности.\n",
    "        Инициализируйте линейные свои нормальным распределением\n",
    "        Инициализируйте сдвиги нулями.\n",
    "        \n",
    "        \"\"\"\n",
    "        \n",
    "        <ваш код здесь>\n",
    "        \n",
    "    def forward(self, x):\n",
    "        <ваш код здесь>"
   ]
  },
  {
   "cell_type": "code",
   "execution_count": null,
   "metadata": {},
   "outputs": [],
   "source": [
    "hidden_size = 32\n",
    "learning_rate = 0.001\n",
    "\n",
    "# инициализируйте генератор и дискриминатор\n",
    "G = <ваш код здесь>\n",
    "D = <ваш код здесь>\n",
    "\n",
    "# инициализируйте ортимизаторы\n",
    "D_optimizer = <ваш код здесь>\n",
    "G_optimizer = <ваш код здесь>"
   ]
  },
  {
   "cell_type": "code",
   "execution_count": null,
   "metadata": {},
   "outputs": [],
   "source": [
    "mu = 5.0\n",
    "sigma = 1.5\n",
    "data_range = 10\n",
    "batch_size = 150\n",
    "\n",
    "data_distributor = DataDistribution(mu, sigma)\n",
    "noise_distributor = NoiseDistribution(data_range)"
   ]
  },
  {
   "cell_type": "markdown",
   "metadata": {},
   "source": [
    "# Training routine"
   ]
  },
  {
   "cell_type": "code",
   "execution_count": null,
   "metadata": {},
   "outputs": [],
   "source": [
    "# инициализируйте лосс\n",
    "criterion = <ваш код здесь>\n",
    "\n",
    "D_train_iters = 5\n",
    "\n",
    "D_losses = []\n",
    "G_losses = []\n",
    "\n",
    "for i in range(10000):\n",
    "\n",
    "    for j in range(D_train_iters):\n",
    "        # sample real data\n",
    "        real_samples = <ваш код здесь>\n",
    "        # get discrtiminator preds on real data\n",
    "        preds_real = <ваш код здесь>\n",
    "        \n",
    "        # get generated data\n",
    "        <ваш код здесь>\n",
    "\n",
    "        generated_samples = <ваш код здесь>\n",
    "        # get discrtiminator preds on generated data\n",
    "        preds_generated = <ваш код здесь>\n",
    "        \n",
    "        #cоздайте массив с целевыми значениями\n",
    "        targets = <ваш код здесь>\n",
    "        \n",
    "        D_loss = criterion(torch.cat(<ваш код здесь>)\n",
    "        D_losses.append(D_loss)\n",
    "        \n",
    "        # propagate gradients\n",
    "        D_optimizer.zero_grad()\n",
    "        D_loss.backward()\n",
    "        D_optimizer.step()\n",
    "        \n",
    "    # generate data\n",
    "    noise_samples = noise_distributor.sample(batch_size)\n",
    "    generated_samples = G(noise_samples)\n",
    "        \n",
    "    preds_generated = D(generated_samples)\n",
    "    G_loss = criterion(preds_generated, torch.zeros_like(preds_generated))\n",
    "    G_losses.append(G_loss)\n",
    "    \n",
    "    G_optimizer.zero_grad()\n",
    "    G_loss.backward()\n",
    "    G_optimizer.step()\n",
    "    \n",
    "    if i % 50 == 0:\n",
    "        \n",
    "        generated_data = G(noise_distributor.sample(1000))\n",
    "        real_data = data_distributor.sample(1000)\n",
    "        clear_output(wait=True)\n",
    "        plt.figure(figsize=(10, 10))\n",
    "        sns.distplot(real_data.data.numpy(), color='black', label='Р(x) real', bins=10)\n",
    "        sns.distplot(generated_data.data.numpy(), color='green', label='G(z)', bins=10)\n",
    "        plt.legend()\n",
    "        plt.show()"
   ]
  },
  {
   "cell_type": "markdown",
   "metadata": {},
   "source": [
    "# Посмотрим на ошибку"
   ]
  },
  {
   "cell_type": "code",
   "execution_count": null,
   "metadata": {},
   "outputs": [],
   "source": [
    "# Plot losses\n",
    "n_samples_to_display = 2000\n",
    "fig, ax = plt.subplots()\n",
    "D_losses = np.array(D_losses)\n",
    "G_losses = np.array(G_losses)\n",
    "plt.plot(D_losses[::D_train_iters][:n_samples_to_display], label='Discriminator')\n",
    "plt.plot(G_losses[:n_samples_to_display], label='Generator')\n",
    "plt.title(\"Training Losses\")\n",
    "plt.legend()\n",
    "plt.show()"
   ]
  },
  {
   "cell_type": "code",
   "execution_count": null,
   "metadata": {},
   "outputs": [],
   "source": []
  }
 ],
 "metadata": {
  "kernelspec": {
   "display_name": "Python 3",
   "language": "python",
   "name": "python3"
  },
  "language_info": {
   "codemirror_mode": {
    "name": "ipython",
    "version": 3
   },
   "file_extension": ".py",
   "mimetype": "text/x-python",
   "name": "python",
   "nbconvert_exporter": "python",
   "pygments_lexer": "ipython3",
   "version": "3.7.4"
  }
 },
 "nbformat": 4,
 "nbformat_minor": 2
}
